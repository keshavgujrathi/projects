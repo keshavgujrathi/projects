# Netflix Data Analysis
# Simple analysis on Netflix dataset

import pandas as pd
import matplotlib.pyplot as plt

# Load dataset (from Kaggle)
data = {
    "Title": ["Movie1", "Movie2", "Series1", "Series2"],
    "Type": ["Movie", "Movie", "TV Show", "TV Show"],
    "Release Year": [2020, 2019, 2021, 2018],
    "Country": ["India", "USA", "UK", "Canada"]
}

df = pd.DataFrame(data)

print("First 5 rows:")
print(df.head())

# Count by type
plt.bar(df["Type"].value_counts().index, df["Type"].value_counts().values)
plt.title("Count of Movies vs TV Shows")
plt.show()
